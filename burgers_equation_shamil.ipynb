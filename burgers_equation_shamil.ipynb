{
 "cells": [
  {
   "cell_type": "code",
   "execution_count": null,
   "id": "429516e8-27a8-411e-99d7-968d88b18397",
   "metadata": {
    "ExecuteTime": {
     "end_time": "2024-12-16T20:25:29.713765Z",
     "start_time": "2024-12-16T20:25:28.681665Z"
    }
   },
   "outputs": [],
   "source": [
    "import torch\n",
    "import torch.nn as nn\n",
    "from torch.optim import Optimizer"
   ]
  },
  {
   "cell_type": "code",
   "execution_count": null,
   "id": "a4273455-95eb-40a9-a8f1-a11388ed306f",
   "metadata": {},
   "outputs": [],
   "source": [
    "class Model(nn.Module):\n",
    "    def __init__(self, hidden_size):\n",
    "        super(Model, self).__init__()\n",
    "        self.model = nn.Sequential(\n",
    "            nn.Linear(2, hidden_size),\n",
    "            nn.Tanh(),\n",
    "            nn.Linear(hidden_size, hidden_size),\n",
    "            nn.Tanh(),\n",
    "            nn.Linear(hidden_size, hidden_size),\n",
    "            nn.Tanh(),\n",
    "            nn.Linear(hidden_size, hidden_size),\n",
    "            nn.Tanh(),\n",
    "            nn.Linear(hidden_size, hidden_size),\n",
    "            nn.Tanh(),\n",
    "            nn.Linear(hidden_size, hidden_size),\n",
    "            nn.Tanh(),\n",
    "            nn.Linear(hidden_size, 1)\n",
    "        )\n",
    "\n",
    "    def forward(self, x, t):\n",
    "        return self.model(torch.stack((x,t),dim=1)).flatten()"
   ]
  },
  {
   "cell_type": "code",
   "execution_count": null,
   "id": "55ebd6b8-e0be-4f51-9f01-7322104709f1",
   "metadata": {},
   "outputs": [],
   "source": [
    "from torch import optim\n",
    "from torch.utils.data import Dataset\n",
    "from torch.utils.data import DataLoader\n",
    "from torch.utils.data import TensorDataset\n",
    "from torch.utils.data import random_split\n",
    "from tqdm import tqdm\n",
    "from IPython.display import clear_output\n",
    "import numpy as np"
   ]
  },
  {
   "cell_type": "code",
   "execution_count": null,
   "id": "2f525fb4-735f-4fbd-8720-c7f89f996a67",
   "metadata": {},
   "outputs": [],
   "source": [
    "class CustomDataset(Dataset):\n",
    "    def __init__(self, t, x, u):\n",
    "        super(CustomDataset).__init__()\n",
    "        self.t = t\n",
    "        self.x = x\n",
    "        self.u = u\n",
    "\n",
    "    def __len__(self):\n",
    "        return len(self.t)\n",
    "\n",
    "    def __getitem__(self, item):\n",
    "        return (self.t[item], self.x[item], self.u[item])\n",
    "        \n",
    "from random import randint\n",
    "\n",
    "samples_cnt = 10000\n",
    "T, X, U = [], [], []\n",
    "for i in range(samples_cnt):\n",
    "    tp = randint(0,3)\n",
    "    if tp==0:\n",
    "        T.append(torch.rand(1))\n",
    "        X.append(torch.rand(1)*2-1)\n",
    "        U.append(torch.nan)\n",
    "    if tp==1:\n",
    "        Xval = torch.rand(1) * 2 - 1\n",
    "        T.append(torch.tensor(0))\n",
    "        X.append(Xval)\n",
    "        U.append(torch.Tensor(-torch.sin(torch.pi * Xval)))\n",
    "    if tp==2:\n",
    "        T.append(torch.rand(1))\n",
    "        X.append(torch.tensor(1))\n",
    "        U.append(torch.tensor(0))\n",
    "    if tp==3:\n",
    "        T.append(torch.rand(1))\n",
    "        X.append(torch.tensor(-1))\n",
    "        U.append(torch.tensor(0))\n",
    "\n",
    "Tvals=torch.Tensor(T)\n",
    "Xvals=torch.Tensor(X)\n",
    "Uvals=torch.Tensor(U)\n",
    "\n",
    "dataset = CustomDataset(Tvals, Xvals, Uvals)\n",
    "train_dataset, valid_dataset = random_split(\n",
    "    dataset,\n",
    "    (int(len(dataset) * 0.8), len(dataset) -  int(len(dataset) * 0.8)),\n",
    "    generator=torch.Generator()\n",
    ")\n",
    "train_loader = DataLoader(train_dataset, batch_size=32, shuffle=True)\n",
    "valid_loader = DataLoader(valid_dataset, batch_size=32, shuffle=False)"
   ]
  },
  {
   "cell_type": "code",
   "execution_count": null,
   "id": "1243cfc6-8f95-4f73-beb1-01edd60612e3",
   "metadata": {},
   "outputs": [],
   "source": [
    "import matplotlib.pyplot as plt\n",
    "import seaborn as sns\n",
    "\n",
    "\n",
    "sns.set_theme(style='darkgrid')\n",
    "\n",
    "\n",
    "def plot_stats(\n",
    "    train_loss: list[float],\n",
    "    valid_loss: list[float],\n",
    "    title: str\n",
    "):\n",
    "    plt.figure(figsize=(16, 8))\n",
    "\n",
    "    plt.title(title)\n",
    "\n",
    "    plt.plot(train_loss, label='Train loss')\n",
    "    plt.plot(valid_loss, label='Valid loss')\n",
    "\n",
    "    plt.legend()\n",
    "\n",
    "    plt.ylabel(\"Loss\")\n",
    "    plt.xlabel(\"Epoch\")\n",
    "\n",
    "    plt.show()"
   ]
  },
  {
   "cell_type": "code",
   "execution_count": null,
   "id": "e98f1529-f298-42f4-86f1-e18451d1add8",
   "metadata": {},
   "outputs": [],
   "source": [
    "class pb_loss(nn.Module):\n",
    "    def __init__(self):\n",
    "        super(pb_loss, self).__init__()\n",
    "\n",
    "    def forward(self, x, t, u, Y):\n",
    "        u_t = torch.autograd.grad(\n",
    "            u, t, \n",
    "            grad_outputs=torch.ones_like(u),\n",
    "            retain_graph=True,\n",
    "            create_graph=True\n",
    "        )[0]\n",
    "        u_x = torch.autograd.grad(\n",
    "            u, x, \n",
    "            grad_outputs=torch.ones_like(u),\n",
    "            retain_graph=True,\n",
    "            create_graph=True\n",
    "        )[0]\n",
    "        u_xx = torch.autograd.grad(\n",
    "            u_x, x, \n",
    "            grad_outputs=torch.ones_like(u_x),\n",
    "            retain_graph=True,\n",
    "            create_graph=True\n",
    "        )[0]\n",
    "        \n",
    "    \n",
    "        nan_mask = Y.isnan().logical_not()\n",
    "        non_nan_u = u[nan_mask]\n",
    "        non_nan_Y = Y[nan_mask]\n",
    "\n",
    "        loss1 = (u_t + u * u_x - (0.01/torch.pi)*u_xx).pow(2).mean()\n",
    "        loss2 = ((non_nan_u - non_nan_Y).pow(2)).mean().nan_to_num(nan=0.0)\n",
    "\n",
    "        return loss2 + loss1\n",
    "\n",
    "ploss = pb_loss()"
   ]
  },
  {
   "cell_type": "code",
   "execution_count": null,
   "id": "0bdf6c60-9aa0-4e3b-8580-cf75fabd952a",
   "metadata": {},
   "outputs": [],
   "source": [
    "from torch.optim import Optimizer\n",
    "from tqdm import tqdm\n",
    "\n",
    "def train(model: nn.Module, data_loader: DataLoader, optimizer: Optimizer):\n",
    "    model.train()\n",
    "\n",
    "    total_loss = 0\n",
    "\n",
    "    for i, (t, x, Y) in enumerate(tqdm(data_loader)):\n",
    "        optimizer.zero_grad()\n",
    "        x.requires_grad=True\n",
    "        t.requires_grad=True\n",
    "        u = model(t, x)\n",
    "\n",
    "        loss = ploss(x,t,u,Y)\n",
    "\n",
    "        loss.backward()\n",
    "\n",
    "        total_loss += loss.item()\n",
    "\n",
    "        optimizer.step()\n",
    "\n",
    "    return total_loss / len(data_loader)"
   ]
  },
  {
   "cell_type": "code",
   "execution_count": null,
   "id": "99400809-d5e2-43ce-89fc-5e444c8274ee",
   "metadata": {},
   "outputs": [],
   "source": [
    "def evaluate(model: nn.Module, data_loader: DataLoader):\n",
    "    total_loss = 0\n",
    "\n",
    "    for i, (t, x, Y) in enumerate(tqdm(data_loader)):\n",
    "        x.requires_grad=True\n",
    "        t.requires_grad=True\n",
    "        u = model(t, x)\n",
    "\n",
    "        loss = ploss(x,t,u,Y)\n",
    "\n",
    "        total_loss += loss.item()\n",
    "\n",
    "    return total_loss / len(data_loader)"
   ]
  },
  {
   "cell_type": "code",
   "execution_count": null,
   "id": "0f42ca54-17d6-4604-875f-bc92eebfffcf",
   "metadata": {},
   "outputs": [],
   "source": [
    "from IPython.display import clear_output\n",
    "\n",
    "\n",
    "def fit(model, train_loader, valid_loader, optimizer, num_epochs, title):\n",
    "    train_loss_history, valid_loss_history = [], []\n",
    "\n",
    "    for epoch in range(num_epochs):\n",
    "        train_loss = train(model, train_loader, optimizer)\n",
    "        valid_loss = evaluate(model, valid_loader)\n",
    "\n",
    "        train_loss_history.append(train_loss)\n",
    "        valid_loss_history.append(valid_loss)\n",
    "\n",
    "        clear_output(wait=True)\n",
    "\n",
    "        plot_stats(train_loss_history, valid_loss_history, title)"
   ]
  },
  {
   "cell_type": "code",
   "execution_count": null,
   "id": "95feb9e1-5f94-4e94-817b-2994ec2b39e7",
   "metadata": {},
   "outputs": [],
   "source": [
    "model = Model(64)\n",
    "\n",
    "optimizer = optim.SGD(model.parameters(), lr = 0.005)"
   ]
  },
  {
   "cell_type": "code",
   "execution_count": null,
   "id": "80b62dff-b478-44f8-987a-6786243a869e",
   "metadata": {},
   "outputs": [],
   "source": [
    "fit(model, train_loader, valid_loader, optimizer, 20000, 'Learning plot')"
   ]
  },
  {
   "cell_type": "code",
   "execution_count": null,
   "id": "53963f68-9ff2-4a37-b490-cf7d343d79ca",
   "metadata": {},
   "outputs": [],
   "source": [
    "plt.figure(figsize=(16,8))\n",
    "for it in range(11):\n",
    "    T = 0.1 * it\n",
    "    t, x, u = [], [], []\n",
    "    for i in range(50):\n",
    "        X = torch.Tensor([-1 + i * (2/50)])\n",
    "        # print(X)\n",
    "        t.append(torch.tensor([T]))\n",
    "        x.append(X)\n",
    "    \n",
    "    t=torch.Tensor(t)\n",
    "    x=torch.Tensor(x)\n",
    "    \n",
    "    pred = model(t, x)\n",
    "    # plt.xlim(-1,1)\n",
    "    # plt.ylim(-1,1)\n",
    "    plt.plot(x.detach().numpy(),pred.detach().numpy(), markersize=3)\n",
    "# plt.savefig(f\"./images/{it}.png\")"
   ]
  },
  {
   "cell_type": "code",
   "execution_count": null,
   "id": "07ce1cb2-1407-400d-ad27-9be2a95b3a3e",
   "metadata": {},
   "outputs": [],
   "source": [
    "torch.save(model.state_dict(), \"model.pth\")"
   ]
  },
  {
   "cell_type": "code",
   "execution_count": null,
   "id": "e2d68763-bc0d-482f-bf7e-94144d9dd35e",
   "metadata": {},
   "outputs": [],
   "source": [
    "import math\n",
    "losses = []\n",
    "for i in range(samples_cnt):\n",
    "    x = -1 + i * (2/1000)\n",
    "    losses.append(ls(model(torch.Tensor([0]), torch.Tensor([x])),torch.Tensor([-math.sin(math.pi * x)])))\n",
    "sum(losses)/len(losses)"
   ]
  },
  {
   "cell_type": "code",
   "execution_count": null,
   "id": "e51eb479-54db-409f-9cdc-0ff3280e0e28",
   "metadata": {},
   "outputs": [],
   "source": [
    "list(torch.stack((t, x,u),axis=1))"
   ]
  },
  {
   "cell_type": "code",
   "execution_count": null,
   "id": "5eec4625-a250-4950-b591-10de2e56c270",
   "metadata": {},
   "outputs": [],
   "source": []
  }
 ],
 "metadata": {
  "kernelspec": {
   "display_name": "Python 3 (ipykernel)",
   "language": "python",
   "name": "python3"
  },
  "language_info": {
   "codemirror_mode": {
    "name": "ipython",
    "version": 3
   },
   "file_extension": ".py",
   "mimetype": "text/x-python",
   "name": "python",
   "nbconvert_exporter": "python",
   "pygments_lexer": "ipython3",
   "version": "3.12.8"
  }
 },
 "nbformat": 4,
 "nbformat_minor": 5
}
